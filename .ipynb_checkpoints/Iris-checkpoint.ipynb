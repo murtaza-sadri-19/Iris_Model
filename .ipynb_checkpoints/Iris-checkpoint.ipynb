{
 "cells": [
  {
   "cell_type": "markdown",
   "id": "3bf9f8b9-9b28-41d3-98aa-f576a342f3b7",
   "metadata": {},
   "source": [
    "### Importing Dependencies"
   ]
  },
  {
   "cell_type": "code",
   "execution_count": null,
   "id": "a15872a6-29e3-4390-888c-bc8f594448c1",
   "metadata": {},
   "outputs": [],
   "source": [
    "import numpy as np\n",
    "import pandas as pd"
   ]
  },
  {
   "cell_type": "code",
   "execution_count": null,
   "id": "7bfc08fa-98c7-4b14-9f86-e21b61b43497",
   "metadata": {},
   "outputs": [],
   "source": [
    "data = pd.read_csv(\"Iris.csv\")"
   ]
  },
  {
   "cell_type": "code",
   "execution_count": null,
   "id": "b67c8962-f935-4966-b766-a6c0dda98b3f",
   "metadata": {},
   "outputs": [],
   "source": [
    "### Accessing the Dataset"
   ]
  },
  {
   "cell_type": "code",
   "execution_count": null,
   "id": "23460878-a97c-4534-a069-125bf2f4aa83",
   "metadata": {},
   "outputs": [],
   "source": [
    "data.head()"
   ]
  },
  {
   "cell_type": "code",
   "execution_count": null,
   "id": "ad6db48e-c23a-407a-8f0b-f8a8eefa1b5d",
   "metadata": {},
   "outputs": [],
   "source": [
    "data.sample(10)"
   ]
  },
  {
   "cell_type": "code",
   "execution_count": null,
   "id": "ab6dcbac-06c2-4d92-8060-d4f039d3d567",
   "metadata": {},
   "outputs": [],
   "source": [
    "data.describe()"
   ]
  },
  {
   "cell_type": "code",
   "execution_count": null,
   "id": "029d8751-ab08-4642-8a87-29de914e9051",
   "metadata": {},
   "outputs": [],
   "source": [
    "data.info()"
   ]
  },
  {
   "cell_type": "markdown",
   "id": "7e9a155a-268a-443e-8cf7-afbf71feba5d",
   "metadata": {},
   "source": [
    "### Data Analysis"
   ]
  },
  {
   "cell_type": "code",
   "execution_count": null,
   "id": "1a0fd933-8e1b-443f-88d6-b4e9603b1f8e",
   "metadata": {
    "scrolled": true
   },
   "outputs": [],
   "source": [
    "## Checking NUll Values\n",
    "\n",
    "data.isnull().sum()"
   ]
  },
  {
   "cell_type": "code",
   "execution_count": null,
   "id": "b27b8955-4028-4fc4-956d-1ae95f9b98a1",
   "metadata": {},
   "outputs": [],
   "source": [
    "## Id is not Necessary\n",
    "\n",
    "data.drop(columns = 'Id', inplace = True , axis = 1)"
   ]
  },
  {
   "cell_type": "code",
   "execution_count": null,
   "id": "6957dbd3-20eb-4110-82b2-a551292f1727",
   "metadata": {},
   "outputs": [],
   "source": [
    "data.columns"
   ]
  },
  {
   "cell_type": "code",
   "execution_count": null,
   "id": "20d015b2-76eb-47c3-ad33-ec908113bb40",
   "metadata": {},
   "outputs": [],
   "source": [
    "data.duplicated().sum()"
   ]
  },
  {
   "cell_type": "markdown",
   "id": "92cb5e38-9c10-4c96-904f-c66c1bc71849",
   "metadata": {},
   "source": [
    "### Data Visualization"
   ]
  },
  {
   "cell_type": "markdown",
   "id": "b418a001-0d82-4cf0-aecc-4fe37d4f3f50",
   "metadata": {},
   "source": [
    "#### Univariate Analysis"
   ]
  },
  {
   "cell_type": "code",
   "execution_count": null,
   "id": "9d629cee-3187-481b-81ea-a7a0e1156e69",
   "metadata": {},
   "outputs": [],
   "source": [
    "import matplotlib.pyplot as plt\n",
    "import seaborn as sns"
   ]
  },
  {
   "cell_type": "code",
   "execution_count": null,
   "id": "e1cad267-a402-4cfd-bb5e-9411149f3d51",
   "metadata": {},
   "outputs": [],
   "source": [
    "plt.figure(figsize = (10,10))\n",
    "\n",
    "sns.displot(data = data, x = 'SepalLengthCm', kde = True)"
   ]
  },
  {
   "cell_type": "code",
   "execution_count": null,
   "id": "569050a5-fff6-42b3-9fd8-525d20dd92d7",
   "metadata": {},
   "outputs": [],
   "source": [
    "print(np.mean(data['SepalLengthCm']))\n",
    "print(np.median(data['SepalLengthCm']))\n"
   ]
  },
  {
   "cell_type": "code",
   "execution_count": null,
   "id": "2fd8c0e4-85a3-45a1-bb08-391336d10f67",
   "metadata": {},
   "outputs": [],
   "source": [
    "sns.boxplot(data = data, x = 'SepalLengthCm')"
   ]
  },
  {
   "cell_type": "code",
   "execution_count": null,
   "id": "9b930473-925c-46b6-9058-d8dcc4f9438c",
   "metadata": {},
   "outputs": [],
   "source": [
    "plt.figure(figsize = (10,10))\n",
    "\n",
    "sns.displot(data = data, x = 'SepalWidthCm', kde = True)"
   ]
  },
  {
   "cell_type": "code",
   "execution_count": null,
   "id": "a8549b24-bfe8-4151-b661-60d4f12f1a28",
   "metadata": {},
   "outputs": [],
   "source": [
    "print(np.mean(data['SepalWidthCm']))\n",
    "print(np.median(data['SepalWidthCm']))\n"
   ]
  },
  {
   "cell_type": "code",
   "execution_count": null,
   "id": "58a23a21-5033-449f-8adb-1fea613b6db9",
   "metadata": {},
   "outputs": [],
   "source": [
    "sns.boxplot(data = data, x = 'SepalWidthCm')"
   ]
  },
  {
   "cell_type": "code",
   "execution_count": null,
   "id": "3a87d06d-97af-4c9c-a99b-e82e95ac0364",
   "metadata": {},
   "outputs": [],
   "source": [
    "Q1 = data['SepalWidthCm'].quantile(0.25)\n",
    "Q3 = data['SepalWidthCm'].quantile(0.75)\n",
    "\n",
    "IQR = Q3 - Q1\n",
    "\n",
    "lwr_bnd = Q1 - 1.5*IQR\n",
    "upr_bnd = Q3 + 1.5*IQR\n",
    "\n",
    "data = data[(data['SepalWidthCm'] > lwr_bnd) & (data['SepalWidthCm'] < upr_bnd)]"
   ]
  },
  {
   "cell_type": "code",
   "execution_count": null,
   "id": "0f4a70b3-ad26-40c3-aba1-32e90f9bdaf3",
   "metadata": {},
   "outputs": [],
   "source": [
    "sns.boxplot(data = data, x = 'SepalWidthCm')"
   ]
  },
  {
   "cell_type": "code",
   "execution_count": null,
   "id": "ef666785-3833-4ace-8cf6-66393206b638",
   "metadata": {},
   "outputs": [],
   "source": [
    "plt.figure(figsize = (10,10))\n",
    "\n",
    "sns.displot(data = data, x = 'PetalLengthCm', kde = True)"
   ]
  },
  {
   "cell_type": "code",
   "execution_count": null,
   "id": "2b857953-dab0-4b17-b6c9-b0ba1047ea77",
   "metadata": {},
   "outputs": [],
   "source": [
    "print(np.mean(data['PetalLengthCm']))\n",
    "print(np.median(data['PetalLengthCm']))\n"
   ]
  },
  {
   "cell_type": "code",
   "execution_count": null,
   "id": "6a0cfd22-48e7-4332-a5ff-6190459b643a",
   "metadata": {},
   "outputs": [],
   "source": [
    "sns.boxplot(data = data, x = 'PetalLengthCm')"
   ]
  },
  {
   "cell_type": "code",
   "execution_count": null,
   "id": "c5b86f4f-2e8d-420d-8e0d-39442bf32a16",
   "metadata": {},
   "outputs": [],
   "source": [
    "plt.figure(figsize = (10,10))\n",
    "\n",
    "sns.displot(data = data, x = 'PetalWidthCm', kde = True)"
   ]
  },
  {
   "cell_type": "code",
   "execution_count": null,
   "id": "6e42342e-a462-48d6-b377-0bb130f36d9f",
   "metadata": {},
   "outputs": [],
   "source": [
    "print(np.mean(data['PetalWidthCm']))\n",
    "print(np.median(data['PetalWidthCm']))\n"
   ]
  },
  {
   "cell_type": "code",
   "execution_count": null,
   "id": "8bcaaced-f761-4d68-a38a-27dcf5d6d879",
   "metadata": {},
   "outputs": [],
   "source": [
    "sns.boxplot(data = data, x = 'PetalWidthCm')"
   ]
  },
  {
   "cell_type": "markdown",
   "id": "ad98a4db-fe8c-41b5-8571-0a02fcee0fda",
   "metadata": {},
   "source": [
    "#### Bi- variate Analysis"
   ]
  },
  {
   "cell_type": "code",
   "execution_count": null,
   "id": "9609768a-0e5f-4e9b-987f-aab5881e6033",
   "metadata": {},
   "outputs": [],
   "source": [
    "sns.scatterplot(data=data, x='SepalLengthCm', y='SepalWidthCm', hue='Species', palette='Set2')"
   ]
  },
  {
   "cell_type": "code",
   "execution_count": null,
   "id": "bc102c6f-7d8e-46e7-9abd-83f07a115c19",
   "metadata": {},
   "outputs": [],
   "source": [
    "correlation_coefficient = np.corrcoef(data['SepalLengthCm'], data['SepalWidthCm'])[0, 1]\n",
    "print(f'Correlation Coefficient: {correlation_coefficient:.2f}')"
   ]
  },
  {
   "cell_type": "code",
   "execution_count": null,
   "id": "846ec22b-1629-4881-a760-18f7ebb49c55",
   "metadata": {},
   "outputs": [],
   "source": [
    "sns.scatterplot(data = data, x = 'PetalLengthCm', y = 'PetalWidthCm',hue='Species', palette='Set2')"
   ]
  },
  {
   "cell_type": "code",
   "execution_count": null,
   "id": "3063c7ac-69d7-4816-a2fa-b75bb66f5120",
   "metadata": {},
   "outputs": [],
   "source": [
    "correlation_coefficient = np.corrcoef(data['PetalLengthCm'], data['PetalWidthCm'])[0, 1]\n",
    "print(f'Correlation Coefficient: {correlation_coefficient:.2f}')"
   ]
  },
  {
   "cell_type": "code",
   "execution_count": null,
   "id": "9f98a978-bd17-458c-8efb-d2eca48b82b5",
   "metadata": {},
   "outputs": [],
   "source": [
    "sns.scatterplot(data = data, x = 'PetalLengthCm', y = 'SepalLengthCm',hue='Species', palette='Set2')"
   ]
  },
  {
   "cell_type": "code",
   "execution_count": null,
   "id": "c9675f16-ff59-43d8-9147-f2a28881fd6c",
   "metadata": {},
   "outputs": [],
   "source": [
    "sns.scatterplot(data = data, x = 'PetalLengthCm', y = 'SepalWidthCm',hue='Species', palette='Set2')"
   ]
  },
  {
   "cell_type": "code",
   "execution_count": null,
   "id": "9aa41db1-0ed8-4b64-ab40-87c574037976",
   "metadata": {},
   "outputs": [],
   "source": [
    "sns.scatterplot(data = data, x = 'PetalWidthCm', y = 'SepalLengthCm',hue='Species', palette='Set2')"
   ]
  },
  {
   "cell_type": "code",
   "execution_count": null,
   "id": "163e8341-8c47-427d-a7e7-808157c6ac0f",
   "metadata": {},
   "outputs": [],
   "source": [
    "sns.scatterplot(data = data, x = 'PetalWidthCm', y = 'SepalWidthCm',hue='Species', palette='Set2')"
   ]
  },
  {
   "cell_type": "code",
   "execution_count": null,
   "id": "daa8931f-94cf-4f01-b82c-167bc1d13394",
   "metadata": {},
   "outputs": [],
   "source": [
    "data.corr(numeric_only= True)"
   ]
  },
  {
   "cell_type": "code",
   "execution_count": null,
   "id": "06c96601-f82b-46ac-81f1-546f0b10e58f",
   "metadata": {},
   "outputs": [],
   "source": [
    "Columns = ['SepalLengthCm',\t'SepalWidthCm',\t'PetalLengthCm',\t'PetalWidthCm']"
   ]
  },
  {
   "cell_type": "code",
   "execution_count": null,
   "id": "52144b9a-4bd1-4914-81f4-cb5277946cea",
   "metadata": {},
   "outputs": [],
   "source": [
    "plt.figure(figsize = (10,10))\n",
    "for i, col in enumerate(Columns):\n",
    "    plt.subplot(4, 1, i+1)  # create a subplot for each feature\n",
    "    sns.scatterplot(x=col, y='Species', data=data,hue='Species', palette='Set2')\n",
    "    plt.title(f\"{col} vs. Species\")\n",
    "    plt.xlabel(col)\n",
    "    plt.ylabel(\"Species\")\n",
    "\n",
    "# Show the plot\n",
    "plt.tight_layout()\n",
    "plt.show()"
   ]
  },
  {
   "cell_type": "code",
   "execution_count": null,
   "id": "eced365d-231b-46f6-8e40-5f3a42f8d632",
   "metadata": {},
   "outputs": [],
   "source": [
    "sns.heatmap(data.corr(numeric_only= True), annot = True)"
   ]
  },
  {
   "cell_type": "code",
   "execution_count": null,
   "id": "60676d41-789c-4fec-9782-2fcfc31fd424",
   "metadata": {},
   "outputs": [],
   "source": [
    "sns.pairplot(data, hue=\"Species\", height = 3)"
   ]
  },
  {
   "cell_type": "markdown",
   "id": "f9cbe100-e417-444f-a909-5df5e17d26a7",
   "metadata": {},
   "source": [
    "#### Label Encoding"
   ]
  },
  {
   "cell_type": "code",
   "execution_count": null,
   "id": "7c6eea90-08a6-4565-ad8d-9c2c1327f961",
   "metadata": {},
   "outputs": [],
   "source": [
    "from sklearn.preprocessing import LabelEncoder"
   ]
  },
  {
   "cell_type": "code",
   "execution_count": null,
   "id": "5fb30c5e-dc38-431c-986c-ce8b101353f6",
   "metadata": {},
   "outputs": [],
   "source": [
    "Label = LabelEncoder()"
   ]
  },
  {
   "cell_type": "code",
   "execution_count": null,
   "id": "7d9cbc2c-1905-4c1d-80dd-1bbdd6745a81",
   "metadata": {},
   "outputs": [],
   "source": [
    "data['Species'] = Label.fit_transform(data['Species'])"
   ]
  },
  {
   "cell_type": "code",
   "execution_count": null,
   "id": "b25f3088-1025-4474-a8a5-5f42711900a1",
   "metadata": {},
   "outputs": [],
   "source": [
    "data.head()"
   ]
  },
  {
   "cell_type": "code",
   "execution_count": null,
   "id": "929e0fac-06e0-4004-89ca-e86580e4bef1",
   "metadata": {},
   "outputs": [],
   "source": [
    "data['Species'].value_counts()"
   ]
  },
  {
   "cell_type": "markdown",
   "id": "dcf46267-01f1-4dc0-8811-0c53acc670f0",
   "metadata": {},
   "source": [
    "### Model "
   ]
  },
  {
   "cell_type": "code",
   "execution_count": null,
   "id": "e2a5d917-72d9-4d8c-96c3-c7c158515cbb",
   "metadata": {},
   "outputs": [],
   "source": [
    "X = data.drop(columns = 'Species', axis = 1)\n",
    "Y = data['Species']"
   ]
  },
  {
   "cell_type": "code",
   "execution_count": null,
   "id": "d5d3d014-d1c7-44f2-a470-013231165017",
   "metadata": {},
   "outputs": [],
   "source": [
    "\n",
    "from sklearn.model_selection import train_test_split"
   ]
  },
  {
   "cell_type": "code",
   "execution_count": null,
   "id": "6f42f515-64c1-40e7-b173-307d6bf6570d",
   "metadata": {},
   "outputs": [],
   "source": [
    "X_train, X_test, Y_train, Y_test = train_test_split(X,Y,test_size=0.2,random_state=19)"
   ]
  },
  {
   "cell_type": "code",
   "execution_count": null,
   "id": "9f47be9f-e991-4a3b-9e83-1883a39f5607",
   "metadata": {},
   "outputs": [],
   "source": [
    "X_train.head()"
   ]
  },
  {
   "cell_type": "code",
   "execution_count": null,
   "id": "2aa60510-bb59-49e9-bba6-c972373ccfad",
   "metadata": {},
   "outputs": [],
   "source": [
    "X_test.head()"
   ]
  },
  {
   "cell_type": "code",
   "execution_count": null,
   "id": "343b43b3-d76c-4372-aad2-d0ec375b3fd7",
   "metadata": {},
   "outputs": [],
   "source": [
    "# Import necessary libraries\n",
    "from sklearn.linear_model import LogisticRegression\n",
    "from sklearn.svm import SVC\n",
    "from sklearn.tree import DecisionTreeClassifier\n",
    "from sklearn.neighbors import KNeighborsClassifier\n",
    "from sklearn.metrics import accuracy_score\n",
    "\n",
    "# Assuming X and Y are your feature and target variables\n",
    "X_train, X_test, Y_train, Y_test = train_test_split(X, Y, test_size=0.2, random_state=42)\n",
    "\n",
    "# Logistic Regression\n",
    "log_reg = LogisticRegression()\n",
    "log_reg.fit(X_train, Y_train)\n",
    "Y_pred_log_reg = log_reg.predict(X_test)\n",
    "log_reg_accuracy = accuracy_score(Y_test, Y_pred_log_reg)\n",
    "print(\"Logistic Regression Accuracy:\", log_reg_accuracy)\n",
    "\n",
    "# Support Vector Machine (SVM)\n",
    "svm = SVC()\n",
    "svm.fit(X_train, Y_train)\n",
    "Y_pred_svm = svm.predict(X_test)\n",
    "svm_accuracy = accuracy_score(Y_test, Y_pred_svm)\n",
    "print(\"Support Vector Machine Accuracy:\", svm_accuracy)\n",
    "\n",
    "# Decision Tree Classifier\n",
    "dec_tree = DecisionTreeClassifier()\n",
    "dec_tree.fit(X_train, Y_train)\n",
    "Y_pred_dec_tree = dec_tree.predict(X_test)\n",
    "dec_tree_accuracy = accuracy_score(Y_test, Y_pred_dec_tree)\n",
    "print(\"Decision Tree Classifier Accuracy:\", dec_tree_accuracy)\n",
    "\n",
    "# K-Nearest Neighbors (KNN) Classifier\n",
    "knn = KNeighborsClassifier()\n",
    "knn.fit(X_train, Y_train)\n",
    "Y_pred_knn = knn.predict(X_test)\n",
    "knn_accuracy = accuracy_score(Y_test, Y_pred_knn)\n",
    "print(\"K-Nearest Neighbors Classifier Accuracy:\", knn_accuracy)"
   ]
  },
  {
   "cell_type": "markdown",
   "id": "c1f8caf0-2d40-4d92-92b5-d154a5d8d614",
   "metadata": {},
   "source": [
    "## SVM and KNN has same accuracy"
   ]
  },
  {
   "cell_type": "code",
   "execution_count": null,
   "id": "cc713522-f886-41ad-9c35-b1688f3d3983",
   "metadata": {},
   "outputs": [],
   "source": [
    "import pickle"
   ]
  },
  {
   "cell_type": "code",
   "execution_count": null,
   "id": "7b54bcf6-0851-42b1-8297-25ca7b629a00",
   "metadata": {},
   "outputs": [],
   "source": [
    "pickle.dump(svm, open('model_svm.pkl','wb'))\n",
    "\n",
    "# Loading model to compare the results\n",
    "model = pickle.load(open('model_svm.pkl','rb'))"
   ]
  },
  {
   "cell_type": "code",
   "execution_count": null,
   "id": "7f61cbc8-b74d-4dd2-9947-711ed6bcbe55",
   "metadata": {},
   "outputs": [],
   "source": [
    "pickle.dump(knn, open('model_knn.pkl','wb'))\n",
    "\n",
    "# Loading model to compare the results\n",
    "model = pickle.load(open('model_knn.pkl','rb'))"
   ]
  },
  {
   "cell_type": "code",
   "execution_count": null,
   "id": "53d4b7d7-7568-45f5-ac60-5df323be7359",
   "metadata": {},
   "outputs": [],
   "source": [
    "processed_iris = data.to_csv(\"D:\\DS_March\\Iris\\processed_iris.csv\", index = False)"
   ]
  },
  {
   "cell_type": "code",
   "execution_count": null,
   "id": "4612b976-595e-4b23-82e2-512e34086335",
   "metadata": {},
   "outputs": [],
   "source": []
  }
 ],
 "metadata": {
  "kernelspec": {
   "display_name": "Python 3 (ipykernel)",
   "language": "python",
   "name": "python3"
  },
  "language_info": {
   "codemirror_mode": {
    "name": "ipython",
    "version": 3
   },
   "file_extension": ".py",
   "mimetype": "text/x-python",
   "name": "python",
   "nbconvert_exporter": "python",
   "pygments_lexer": "ipython3",
   "version": "3.11.7"
  }
 },
 "nbformat": 4,
 "nbformat_minor": 5
}
